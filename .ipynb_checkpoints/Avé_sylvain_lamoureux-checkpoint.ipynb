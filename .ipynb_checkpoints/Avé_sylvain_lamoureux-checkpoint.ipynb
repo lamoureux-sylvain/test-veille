{
 "cells": [
  {
   "cell_type": "markdown",
   "metadata": {},
   "source": [
    "### intro à git avec des bug du direct\n",
    "\n"
   ]
  },
  {
   "cell_type": "markdown",
   "metadata": {
    "colab_type": "text",
    "id": "view-in-github"
   },
   "source": [
    "<a href=\"https://colab.research.google.com/github/lamoureux-sylvain/test-veille/blob/master/Av%C3%A9_sylvain_lamoureux.ipynb\" target=\"_parent\"><img src=\"https://colab.research.google.com/assets/colab-badge.svg\" alt=\"Open In Colab\"/></a>"
   ]
  },
  {
   "cell_type": "code",
   "execution_count": 0,
   "metadata": {
    "colab": {
     "base_uri": "https://localhost:8080/",
     "height": 72
    },
    "colab_type": "code",
    "id": "gP6TE4idLBxk",
    "outputId": "d43da0d5-81b0-4ecb-bd4a-b05470b14aa2"
   },
   "outputs": [
    {
     "name": "stdout",
     "output_type": "stream",
     "text": [
      "Saisissez la clé de chiffrement :-7\n",
      "phrase à coder/decoder :Dlzo iyv ab jvklz lu wfaovu thpualuhua\n",
      "wesh bro tu codes en python maintenant\n"
     ]
    }
   ],
   "source": [
    "liste_lettre=[\"a\",\"b\",\"c\",\"d\",\"e\",\"f\",\"g\",\"h\",\"i\",\"j\",\"k\",\"l\",\"m\",\"n\",\"o\",\"p\",\"q\",\"r\",\"s\",\"t\",\"u\",\"v\",\"w\",\"x\",\"y\",\"z\"]\n",
    "cle=int(input(\"Saisissez la clé de chiffrement :\"))\n",
    "while cle>26:\n",
    "    cle-=26\n",
    "phrase=(input(\"phrase à coder/decoder :\")).lower()\n",
    "phrase_codee=[]\n",
    "phrase=phrase.split()\n",
    "for mot in phrase:\n",
    "    liste_mot=[]\n",
    "    for lettre in mot:\n",
    "        i=liste_lettre.index(lettre)\n",
    "        if i+cle>25:\n",
    "            i-=26\n",
    "        liste_mot.append(liste_lettre[i+cle])\n",
    "    phrase_codee.append(\"\".join(liste_mot))\n",
    "print(\" \".join(phrase_codee))"
   ]
  }
 ],
 "metadata": {
  "colab": {
   "authorship_tag": "ABX9TyPyOEfMBS/2mx4MZhldDiyl",
   "collapsed_sections": [],
   "include_colab_link": true,
   "name": "Avé sylvain lamoureux.ipynb",
   "provenance": []
  },
  "kernelspec": {
   "display_name": "Python 3",
   "language": "python",
   "name": "python3"
  },
  "language_info": {
   "codemirror_mode": {
    "name": "ipython",
    "version": 3
   },
   "file_extension": ".py",
   "mimetype": "text/x-python",
   "name": "python",
   "nbconvert_exporter": "python",
   "pygments_lexer": "ipython3",
   "version": "3.7.6"
  }
 },
 "nbformat": 4,
 "nbformat_minor": 1
}
