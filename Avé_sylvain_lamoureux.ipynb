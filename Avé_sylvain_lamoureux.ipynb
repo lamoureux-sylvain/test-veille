{
  "nbformat": 4,
  "nbformat_minor": 0,
  "metadata": {
    "colab": {
      "name": "Avé sylvain lamoureux.ipynb",
      "provenance": [],
      "collapsed_sections": [],
      "authorship_tag": "ABX9TyPyOEfMBS/2mx4MZhldDiyl",
      "include_colab_link": true
    },
    "kernelspec": {
      "name": "python3",
      "display_name": "Python 3"
    }
  },
  "cells": [
    {
      "cell_type": "markdown",
      "metadata": {
        "id": "view-in-github",
        "colab_type": "text"
      },
      "source": [
        "<a href=\"https://colab.research.google.com/github/lamoureux-sylvain/test-veille/blob/master/Av%C3%A9_sylvain_lamoureux.ipynb\" target=\"_parent\"><img src=\"https://colab.research.google.com/assets/colab-badge.svg\" alt=\"Open In Colab\"/></a>"
      ]
    },
    {
      "cell_type": "code",
      "metadata": {
        "id": "gP6TE4idLBxk",
        "colab_type": "code",
        "outputId": "d43da0d5-81b0-4ecb-bd4a-b05470b14aa2",
        "colab": {
          "base_uri": "https://localhost:8080/",
          "height": 72
        }
      },
      "source": [
        "liste_lettre=[\"a\",\"b\",\"c\",\"d\",\"e\",\"f\",\"g\",\"h\",\"i\",\"j\",\"k\",\"l\",\"m\",\"n\",\"o\",\"p\",\"q\",\"r\",\"s\",\"t\",\"u\",\"v\",\"w\",\"x\",\"y\",\"z\"]\n",
        "cle=int(input(\"Saisissez la clé de chiffrement :\"))\n",
        "while cle>26:\n",
        "    cle-=26\n",
        "phrase=(input(\"phrase à coder/decoder :\")).lower()\n",
        "phrase_codee=[]\n",
        "phrase=phrase.split()\n",
        "for mot in phrase:\n",
        "    liste_mot=[]\n",
        "    for lettre in mot:\n",
        "        i=liste_lettre.index(lettre)\n",
        "        if i+cle>25:\n",
        "            i-=26\n",
        "        liste_mot.append(liste_lettre[i+cle])\n",
        "    phrase_codee.append(\"\".join(liste_mot))\n",
        "print(\" \".join(phrase_codee))"
      ],
      "execution_count": 0,
      "outputs": [
        {
          "output_type": "stream",
          "text": [
            "Saisissez la clé de chiffrement :-7\n",
            "phrase à coder/decoder :Dlzo iyv ab jvklz lu wfaovu thpualuhua\n",
            "wesh bro tu codes en python maintenant\n"
          ],
          "name": "stdout"
        }
      ]
    }
  ]
}